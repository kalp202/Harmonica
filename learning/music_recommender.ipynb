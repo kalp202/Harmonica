{
 "cells": [
  {
   "cell_type": "code",
   "execution_count": 2,
   "id": "db549117-8d32-4f1f-ae6a-1aa5b6cda35b",
   "metadata": {},
   "outputs": [],
   "source": [
    "import pandas as pd, numpy as np\n",
    "import ast"
   ]
  },
  {
   "cell_type": "code",
   "execution_count": 75,
   "id": "b976bd6d-58cc-4941-8933-bcb4ac4821e8",
   "metadata": {},
   "outputs": [],
   "source": [
    "dataframe = pd.read_csv(\"../scraping/out.csv\", encoding='utf-8',encoding_errors='replace' )"
   ]
  },
  {
   "cell_type": "code",
   "execution_count": 76,
   "id": "c257d379-f81e-4b38-88fc-7027f8fe107d",
   "metadata": {},
   "outputs": [
    {
     "data": {
      "text/plain": [
       "Index(['title', 'singers', 'directors', 'lyricist', 'genre', 'album',\n",
       "       'download_link', 'poster', 'year'],\n",
       "      dtype='object')"
      ]
     },
     "execution_count": 76,
     "metadata": {},
     "output_type": "execute_result"
    }
   ],
   "source": [
    "dataframe.columns"
   ]
  },
  {
   "cell_type": "code",
   "execution_count": 77,
   "id": "cef0ccb5-e920-47d2-9a8d-25564ceda490",
   "metadata": {},
   "outputs": [
    {
     "data": {
      "text/plain": [
       "(5610, 9)"
      ]
     },
     "execution_count": 77,
     "metadata": {},
     "output_type": "execute_result"
    }
   ],
   "source": [
    "dataframe.shape"
   ]
  },
  {
   "cell_type": "code",
   "execution_count": 84,
   "id": "fc6d5a13-fa04-41b2-b525-481a5ee85f90",
   "metadata": {},
   "outputs": [
    {
     "data": {
      "text/html": [
       "<div>\n",
       "<style scoped>\n",
       "    .dataframe tbody tr th:only-of-type {\n",
       "        vertical-align: middle;\n",
       "    }\n",
       "\n",
       "    .dataframe tbody tr th {\n",
       "        vertical-align: top;\n",
       "    }\n",
       "\n",
       "    .dataframe thead th {\n",
       "        text-align: right;\n",
       "    }\n",
       "</style>\n",
       "<table border=\"1\" class=\"dataframe\">\n",
       "  <thead>\n",
       "    <tr style=\"text-align: right;\">\n",
       "      <th></th>\n",
       "      <th>title</th>\n",
       "      <th>singers</th>\n",
       "      <th>directors</th>\n",
       "      <th>lyricist</th>\n",
       "      <th>genre</th>\n",
       "      <th>album</th>\n",
       "      <th>download_link</th>\n",
       "      <th>poster</th>\n",
       "      <th>year</th>\n",
       "    </tr>\n",
       "  </thead>\n",
       "  <tbody>\n",
       "    <tr>\n",
       "      <th>5605</th>\n",
       "      <td>Yeh Sama, Sama Hai Yeh Pyaar Ka</td>\n",
       "      <td>['Nikhita Gandhi']</td>\n",
       "      <td>['Kalyanji - Anandji', ' Nikhita Gandhi']</td>\n",
       "      <td>['Anand Bakshi']</td>\n",
       "      <td>['Pop']</td>\n",
       "      <td>Yeh Sama, Sama Hai Yeh Pyaar Ka</td>\n",
       "      <td>https://www.youtube.com/watch?v=D7AmTviGVf0</td>\n",
       "      <td>https://is2-ssl.mzstatic.com/image/thumb/Music...</td>\n",
       "      <td>2020</td>\n",
       "    </tr>\n",
       "    <tr>\n",
       "      <th>5606</th>\n",
       "      <td>Zaalima</td>\n",
       "      <td>['Sona Mohapatra']</td>\n",
       "      <td>['JAM8']</td>\n",
       "      <td>['Amitabh Bhattacharya']</td>\n",
       "      <td>['Filmi']</td>\n",
       "      <td>Zaalima</td>\n",
       "      <td>https://www.youtube.com/watch?v=sPoS_aYj7Jw</td>\n",
       "      <td>https://is5-ssl.mzstatic.com/image/thumb/Music...</td>\n",
       "      <td>2020</td>\n",
       "    </tr>\n",
       "    <tr>\n",
       "      <th>5607</th>\n",
       "      <td>Zara Thehro</td>\n",
       "      <td>['Armaan Malik', ' Tulsi Kumar']</td>\n",
       "      <td>['Amaal Mallik']</td>\n",
       "      <td>['Rashmi Virag']</td>\n",
       "      <td>['Filmi']</td>\n",
       "      <td>Zara Thehro</td>\n",
       "      <td>https://www.youtube.com/watch?v=5Up8XW-K-Ik</td>\n",
       "      <td>https://is3-ssl.mzstatic.com/image/thumb/Music...</td>\n",
       "      <td>2020</td>\n",
       "    </tr>\n",
       "    <tr>\n",
       "      <th>5608</th>\n",
       "      <td>Zeher</td>\n",
       "      <td>['Bharatt - Saurabh']</td>\n",
       "      <td>['Bharatt - Saurabh']</td>\n",
       "      <td>['Bharatt - Saurabh']</td>\n",
       "      <td>['Hip-hop', ' Filmi']</td>\n",
       "      <td>Zeher</td>\n",
       "      <td>https://www.youtube.com/watch?v=DG5SfLqZeA8</td>\n",
       "      <td>https://is2-ssl.mzstatic.com/image/thumb/Music...</td>\n",
       "      <td>2020</td>\n",
       "    </tr>\n",
       "    <tr>\n",
       "      <th>5609</th>\n",
       "      <td>Zindagi Tere Naam</td>\n",
       "      <td>['Raghav Kapoor']</td>\n",
       "      <td>['Raghav Kapoor', ' Amdad Ali']</td>\n",
       "      <td>['Raghav Kapoor']</td>\n",
       "      <td>['Filmi']</td>\n",
       "      <td>Zindagi Tere Naam</td>\n",
       "      <td>https://www.youtube.com/watch?v=0viILFQ5-ks</td>\n",
       "      <td>https://is3-ssl.mzstatic.com/image/thumb/Music...</td>\n",
       "      <td>2020</td>\n",
       "    </tr>\n",
       "  </tbody>\n",
       "</table>\n",
       "</div>"
      ],
      "text/plain": [
       "                                title                           singers  \\\n",
       "5605  Yeh Sama, Sama Hai Yeh Pyaar Ka                ['Nikhita Gandhi']   \n",
       "5606                          Zaalima                ['Sona Mohapatra']   \n",
       "5607                      Zara Thehro  ['Armaan Malik', ' Tulsi Kumar']   \n",
       "5608                            Zeher             ['Bharatt - Saurabh']   \n",
       "5609                Zindagi Tere Naam                 ['Raghav Kapoor']   \n",
       "\n",
       "                                      directors                  lyricist  \\\n",
       "5605  ['Kalyanji - Anandji', ' Nikhita Gandhi']          ['Anand Bakshi']   \n",
       "5606                                   ['JAM8']  ['Amitabh Bhattacharya']   \n",
       "5607                           ['Amaal Mallik']          ['Rashmi Virag']   \n",
       "5608                      ['Bharatt - Saurabh']     ['Bharatt - Saurabh']   \n",
       "5609            ['Raghav Kapoor', ' Amdad Ali']         ['Raghav Kapoor']   \n",
       "\n",
       "                      genre                            album  \\\n",
       "5605                ['Pop']  Yeh Sama, Sama Hai Yeh Pyaar Ka   \n",
       "5606              ['Filmi']                          Zaalima   \n",
       "5607              ['Filmi']                      Zara Thehro   \n",
       "5608  ['Hip-hop', ' Filmi']                            Zeher   \n",
       "5609              ['Filmi']                Zindagi Tere Naam   \n",
       "\n",
       "                                    download_link  \\\n",
       "5605  https://www.youtube.com/watch?v=D7AmTviGVf0   \n",
       "5606  https://www.youtube.com/watch?v=sPoS_aYj7Jw   \n",
       "5607  https://www.youtube.com/watch?v=5Up8XW-K-Ik   \n",
       "5608  https://www.youtube.com/watch?v=DG5SfLqZeA8   \n",
       "5609  https://www.youtube.com/watch?v=0viILFQ5-ks   \n",
       "\n",
       "                                                 poster  year  \n",
       "5605  https://is2-ssl.mzstatic.com/image/thumb/Music...  2020  \n",
       "5606  https://is5-ssl.mzstatic.com/image/thumb/Music...  2020  \n",
       "5607  https://is3-ssl.mzstatic.com/image/thumb/Music...  2020  \n",
       "5608  https://is2-ssl.mzstatic.com/image/thumb/Music...  2020  \n",
       "5609  https://is3-ssl.mzstatic.com/image/thumb/Music...  2020  "
      ]
     },
     "execution_count": 84,
     "metadata": {},
     "output_type": "execute_result"
    }
   ],
   "source": [
    "dataframe.tail()"
   ]
  },
  {
   "cell_type": "code",
   "execution_count": 85,
   "id": "2e2bd2fb-79ed-4449-9892-9d585631c88f",
   "metadata": {},
   "outputs": [
    {
     "name": "stdout",
     "output_type": "stream",
     "text": [
      "61 505\n"
     ]
    }
   ],
   "source": [
    "#checking for null values\n",
    "null_lyricist = dataframe.isna()['lyricist'].sum()\n",
    "null_directors = dataframe.isna()['directors'].sum()\n",
    "print(null_directors, null_lyricist)"
   ]
  },
  {
   "cell_type": "code",
   "execution_count": 86,
   "id": "eb64f941-bf3d-4ec2-b191-740351467c33",
   "metadata": {},
   "outputs": [
    {
     "data": {
      "text/plain": [
       "(5049, 9)"
      ]
     },
     "execution_count": 86,
     "metadata": {},
     "output_type": "execute_result"
    }
   ],
   "source": [
    "#removing brackets \n",
    "dataframe = dataframe[~dataframe['title'].str.contains(r'reprise|title|theme|version|track|edit|redux|unplugged|duet|beat|mix|instrumental|cover|tribute|acoustic', case=False)]\n",
    "dataframe.shape"
   ]
  },
  {
   "cell_type": "code",
   "execution_count": 87,
   "id": "327de2b4-d69b-4b2c-b384-dc07885b744a",
   "metadata": {},
   "outputs": [
    {
     "data": {
      "text/plain": [
       "(3883, 9)"
      ]
     },
     "execution_count": 87,
     "metadata": {},
     "output_type": "execute_result"
    }
   ],
   "source": [
    "dataframe.dropna(subset=['title','singers','download_link', 'year', 'poster'], inplace= True)\n",
    "# dataframe.drop_duplicates(subset=['title'], inplace = True) # should not perform as two songs can have same names\n",
    "dataframe.drop_duplicates(subset=['download_link'], inplace = True)\n",
    "dataframe.reset_index(drop = True, inplace=True)\n",
    "dataframe.shape"
   ]
  },
  {
   "cell_type": "code",
   "execution_count": 11,
   "id": "1189236d-4d70-4ed3-a45a-9a40e775a657",
   "metadata": {},
   "outputs": [],
   "source": [
    "def convert_to_words(words):\n",
    "    try:\n",
    "        if not words:\n",
    "            return []\n",
    "        list = ast.literal_eval(words)\n",
    "        return \" \" + \" \".join([one_word(s) for s in list])\n",
    "    except:\n",
    "        return \" \"\n",
    "def one_word(s):\n",
    "    return \"\".join(s.lower().split())"
   ]
  },
  {
   "cell_type": "code",
   "execution_count": 88,
   "id": "66b8dd3a-9440-4c19-a34b-f00c0370f984",
   "metadata": {},
   "outputs": [],
   "source": [
    "new_df = pd.DataFrame()\n",
    "new_df['tags'] = dataframe['title']\n",
    "new_df['tags'] += dataframe['singers'].apply(convert_to_words)\n",
    "new_df['tags'] += dataframe['directors'].apply(convert_to_words)\n",
    "new_df['tags'] += dataframe['lyricist'].apply(convert_to_words)\n",
    "new_df['tags'] += dataframe['genre'].apply(convert_to_words)\n",
    "new_df['tags'] += \" \" + dataframe['album']"
   ]
  },
  {
   "cell_type": "code",
   "execution_count": 13,
   "id": "260eea1f-51a0-42ca-a4dd-eecdd5599242",
   "metadata": {},
   "outputs": [
    {
     "data": {
      "text/plain": [
       "'Allah Teri Kya Shaan Hai jaannissarlone kamalkhan jaannissarlone sahilfatehpuri filmi sufi/qawwali 18.11 (A Code Of Secrecy)'"
      ]
     },
     "execution_count": 13,
     "metadata": {},
     "output_type": "execute_result"
    }
   ],
   "source": [
    "new_df.head().iloc[0].tags"
   ]
  },
  {
   "cell_type": "code",
   "execution_count": 89,
   "id": "dfda056b-f4e8-457a-9561-b545bba8ce5f",
   "metadata": {},
   "outputs": [],
   "source": [
    "from sklearn.feature_extraction.text import CountVectorizer\n",
    "cv = CountVectorizer(max_features=10000,stop_words='english')"
   ]
  },
  {
   "cell_type": "code",
   "execution_count": 90,
   "id": "3d2511b6-1543-4d8e-8915-bb8d168ae41c",
   "metadata": {},
   "outputs": [],
   "source": [
    "vector = cv.fit_transform(new_df['tags']).toarray()"
   ]
  },
  {
   "cell_type": "code",
   "execution_count": 16,
   "id": "c9553863-8bfb-435c-a5d5-f069a5532d8f",
   "metadata": {},
   "outputs": [
    {
     "data": {
      "text/plain": [
       "pandas.core.series.Series"
      ]
     },
     "execution_count": 16,
     "metadata": {},
     "output_type": "execute_result"
    }
   ],
   "source": [
    "type(new_df['tags'])"
   ]
  },
  {
   "cell_type": "code",
   "execution_count": 91,
   "id": "ee3bbe67-9edf-4300-b2bb-319a98993b1f",
   "metadata": {},
   "outputs": [
    {
     "data": {
      "text/plain": [
       "(3883, 8120)"
      ]
     },
     "execution_count": 91,
     "metadata": {},
     "output_type": "execute_result"
    }
   ],
   "source": [
    "vector.shape"
   ]
  },
  {
   "cell_type": "code",
   "execution_count": 92,
   "id": "06175393-cf9f-4286-b9cf-ef678c7dce2e",
   "metadata": {},
   "outputs": [],
   "source": [
    "from sklearn.metrics.pairwise import cosine_similarity\n",
    "similarity = cosine_similarity(vector)"
   ]
  },
  {
   "cell_type": "code",
   "execution_count": 93,
   "id": "e6fa743e-06ae-4e61-bbbe-99c8a92ecf81",
   "metadata": {},
   "outputs": [
    {
     "data": {
      "text/plain": [
       "(3883, 3883)"
      ]
     },
     "execution_count": 93,
     "metadata": {},
     "output_type": "execute_result"
    }
   ],
   "source": [
    "similarity.shape"
   ]
  },
  {
   "cell_type": "code",
   "execution_count": 94,
   "id": "2ac01f9b-cf07-41b2-a159-19c07b3f30da",
   "metadata": {},
   "outputs": [],
   "source": [
    "sorted_indices = np.array([np.argsort(-row)[1: 51] for row in similarity])\n",
    "np.save('similarity.npy', sorted_indices)"
   ]
  },
  {
   "cell_type": "code",
   "execution_count": null,
   "id": "551ddfbb-7e71-4703-89cd-5d18a5e9bec4",
   "metadata": {},
   "outputs": [],
   "source": [
    "#loading data from numpy\n",
    "arr = np.load('similarity.npy')\n",
    "list(arr[0])"
   ]
  },
  {
   "cell_type": "code",
   "execution_count": null,
   "id": "12c1e122-ca9e-4647-9b98-2bd67bd8ef7d",
   "metadata": {},
   "outputs": [],
   "source": [
    "def recommend(song):\n",
    "    index = dataframe[dataframe['title'] == song].index[0]\n",
    "    similar = enumerate(similarity[index])\n",
    "    r_songs = sorted(similar, key = lambda x : -x[1])[1:51]\n",
    "    list_of_songs = []\n",
    "    for sng in r_songs:\n",
    "        list_of_songs.append(dataframe.iloc[sng[0]].to_dict())\n",
    "    return list_of_songs"
   ]
  },
  {
   "cell_type": "code",
   "execution_count": null,
   "id": "8f46e69b-eac1-4892-b237-47711e7a291d",
   "metadata": {},
   "outputs": [],
   "source": [
    "r = recommend(dataframe.iloc[0].title)"
   ]
  },
  {
   "cell_type": "code",
   "execution_count": 95,
   "id": "1cca9d98-b3c6-4f49-9880-2e2f341056a7",
   "metadata": {},
   "outputs": [],
   "source": [
    "#for saving the database\n",
    "save_df = pd.DataFrame()\n",
    "save_df = dataframe[['title', 'download_link', 'year']]"
   ]
  },
  {
   "cell_type": "code",
   "execution_count": 96,
   "id": "458af948-9130-4eb2-a508-5d583e273453",
   "metadata": {},
   "outputs": [
    {
     "data": {
      "text/html": [
       "<div>\n",
       "<style scoped>\n",
       "    .dataframe tbody tr th:only-of-type {\n",
       "        vertical-align: middle;\n",
       "    }\n",
       "\n",
       "    .dataframe tbody tr th {\n",
       "        vertical-align: top;\n",
       "    }\n",
       "\n",
       "    .dataframe thead th {\n",
       "        text-align: right;\n",
       "    }\n",
       "</style>\n",
       "<table border=\"1\" class=\"dataframe\">\n",
       "  <thead>\n",
       "    <tr style=\"text-align: right;\">\n",
       "      <th></th>\n",
       "      <th>title</th>\n",
       "      <th>download_link</th>\n",
       "      <th>year</th>\n",
       "    </tr>\n",
       "  </thead>\n",
       "  <tbody>\n",
       "    <tr>\n",
       "      <th>3878</th>\n",
       "      <td>Yeh Sama, Sama Hai Yeh Pyaar Ka</td>\n",
       "      <td>https://www.youtube.com/watch?v=D7AmTviGVf0</td>\n",
       "      <td>2020</td>\n",
       "    </tr>\n",
       "    <tr>\n",
       "      <th>3879</th>\n",
       "      <td>Zaalima</td>\n",
       "      <td>https://www.youtube.com/watch?v=sPoS_aYj7Jw</td>\n",
       "      <td>2020</td>\n",
       "    </tr>\n",
       "    <tr>\n",
       "      <th>3880</th>\n",
       "      <td>Zara Thehro</td>\n",
       "      <td>https://www.youtube.com/watch?v=5Up8XW-K-Ik</td>\n",
       "      <td>2020</td>\n",
       "    </tr>\n",
       "    <tr>\n",
       "      <th>3881</th>\n",
       "      <td>Zeher</td>\n",
       "      <td>https://www.youtube.com/watch?v=DG5SfLqZeA8</td>\n",
       "      <td>2020</td>\n",
       "    </tr>\n",
       "    <tr>\n",
       "      <th>3882</th>\n",
       "      <td>Zindagi Tere Naam</td>\n",
       "      <td>https://www.youtube.com/watch?v=0viILFQ5-ks</td>\n",
       "      <td>2020</td>\n",
       "    </tr>\n",
       "  </tbody>\n",
       "</table>\n",
       "</div>"
      ],
      "text/plain": [
       "                                title  \\\n",
       "3878  Yeh Sama, Sama Hai Yeh Pyaar Ka   \n",
       "3879                          Zaalima   \n",
       "3880                      Zara Thehro   \n",
       "3881                            Zeher   \n",
       "3882                Zindagi Tere Naam   \n",
       "\n",
       "                                    download_link  year  \n",
       "3878  https://www.youtube.com/watch?v=D7AmTviGVf0  2020  \n",
       "3879  https://www.youtube.com/watch?v=sPoS_aYj7Jw  2020  \n",
       "3880  https://www.youtube.com/watch?v=5Up8XW-K-Ik  2020  \n",
       "3881  https://www.youtube.com/watch?v=DG5SfLqZeA8  2020  \n",
       "3882  https://www.youtube.com/watch?v=0viILFQ5-ks  2020  "
      ]
     },
     "execution_count": 96,
     "metadata": {},
     "output_type": "execute_result"
    }
   ],
   "source": [
    "save_df.tail()"
   ]
  },
  {
   "cell_type": "code",
   "execution_count": 97,
   "id": "170a7893-05a1-4268-8664-d2bd9659f29f",
   "metadata": {},
   "outputs": [],
   "source": [
    "save_df.to_pickle('songs.pkl')"
   ]
  },
  {
   "cell_type": "code",
   "execution_count": 98,
   "id": "1c85916a-28f3-4302-a4e2-50c41115326a",
   "metadata": {},
   "outputs": [
    {
     "data": {
      "text/html": [
       "<div>\n",
       "<style scoped>\n",
       "    .dataframe tbody tr th:only-of-type {\n",
       "        vertical-align: middle;\n",
       "    }\n",
       "\n",
       "    .dataframe tbody tr th {\n",
       "        vertical-align: top;\n",
       "    }\n",
       "\n",
       "    .dataframe thead th {\n",
       "        text-align: right;\n",
       "    }\n",
       "</style>\n",
       "<table border=\"1\" class=\"dataframe\">\n",
       "  <thead>\n",
       "    <tr style=\"text-align: right;\">\n",
       "      <th></th>\n",
       "      <th>title</th>\n",
       "      <th>download_link</th>\n",
       "      <th>year</th>\n",
       "    </tr>\n",
       "  </thead>\n",
       "  <tbody>\n",
       "    <tr>\n",
       "      <th>0</th>\n",
       "      <td>Allah Teri Kya Shaan Hai</td>\n",
       "      <td>https://www.youtube.com/watch?v=rF7JYlu2mhM</td>\n",
       "      <td>2014</td>\n",
       "    </tr>\n",
       "    <tr>\n",
       "      <th>1</th>\n",
       "      <td>Yeh Zamin Yeh Aasman Roshni Se Nahaane Lage</td>\n",
       "      <td>https://www.youtube.com/watch?v=6av6kNVx-0I</td>\n",
       "      <td>2014</td>\n",
       "    </tr>\n",
       "    <tr>\n",
       "      <th>2</th>\n",
       "      <td>Mera Yaar Thanedaar</td>\n",
       "      <td>https://www.youtube.com/watch?v=djznDrQ05wA</td>\n",
       "      <td>2014</td>\n",
       "    </tr>\n",
       "    <tr>\n",
       "      <th>3</th>\n",
       "      <td>Eagle Sa Ego Hai</td>\n",
       "      <td>https://www.youtube.com/watch?v=mI5qs83q6Z8</td>\n",
       "      <td>2014</td>\n",
       "    </tr>\n",
       "    <tr>\n",
       "      <th>4</th>\n",
       "      <td>Aandhi Jaisi Raftar Chal Chala Chal (Chal Chal...</td>\n",
       "      <td>https://www.youtube.com/watch?v=8R1rs5dvqyM</td>\n",
       "      <td>2014</td>\n",
       "    </tr>\n",
       "    <tr>\n",
       "      <th>...</th>\n",
       "      <td>...</td>\n",
       "      <td>...</td>\n",
       "      <td>...</td>\n",
       "    </tr>\n",
       "    <tr>\n",
       "      <th>3878</th>\n",
       "      <td>Yeh Sama, Sama Hai Yeh Pyaar Ka</td>\n",
       "      <td>https://www.youtube.com/watch?v=D7AmTviGVf0</td>\n",
       "      <td>2020</td>\n",
       "    </tr>\n",
       "    <tr>\n",
       "      <th>3879</th>\n",
       "      <td>Zaalima</td>\n",
       "      <td>https://www.youtube.com/watch?v=sPoS_aYj7Jw</td>\n",
       "      <td>2020</td>\n",
       "    </tr>\n",
       "    <tr>\n",
       "      <th>3880</th>\n",
       "      <td>Zara Thehro</td>\n",
       "      <td>https://www.youtube.com/watch?v=5Up8XW-K-Ik</td>\n",
       "      <td>2020</td>\n",
       "    </tr>\n",
       "    <tr>\n",
       "      <th>3881</th>\n",
       "      <td>Zeher</td>\n",
       "      <td>https://www.youtube.com/watch?v=DG5SfLqZeA8</td>\n",
       "      <td>2020</td>\n",
       "    </tr>\n",
       "    <tr>\n",
       "      <th>3882</th>\n",
       "      <td>Zindagi Tere Naam</td>\n",
       "      <td>https://www.youtube.com/watch?v=0viILFQ5-ks</td>\n",
       "      <td>2020</td>\n",
       "    </tr>\n",
       "  </tbody>\n",
       "</table>\n",
       "<p>3883 rows × 3 columns</p>\n",
       "</div>"
      ],
      "text/plain": [
       "                                                  title  \\\n",
       "0                              Allah Teri Kya Shaan Hai   \n",
       "1           Yeh Zamin Yeh Aasman Roshni Se Nahaane Lage   \n",
       "2                                   Mera Yaar Thanedaar   \n",
       "3                                      Eagle Sa Ego Hai   \n",
       "4     Aandhi Jaisi Raftar Chal Chala Chal (Chal Chal...   \n",
       "...                                                 ...   \n",
       "3878                    Yeh Sama, Sama Hai Yeh Pyaar Ka   \n",
       "3879                                            Zaalima   \n",
       "3880                                        Zara Thehro   \n",
       "3881                                              Zeher   \n",
       "3882                                  Zindagi Tere Naam   \n",
       "\n",
       "                                    download_link  year  \n",
       "0     https://www.youtube.com/watch?v=rF7JYlu2mhM  2014  \n",
       "1     https://www.youtube.com/watch?v=6av6kNVx-0I  2014  \n",
       "2     https://www.youtube.com/watch?v=djznDrQ05wA  2014  \n",
       "3     https://www.youtube.com/watch?v=mI5qs83q6Z8  2014  \n",
       "4     https://www.youtube.com/watch?v=8R1rs5dvqyM  2014  \n",
       "...                                           ...   ...  \n",
       "3878  https://www.youtube.com/watch?v=D7AmTviGVf0  2020  \n",
       "3879  https://www.youtube.com/watch?v=sPoS_aYj7Jw  2020  \n",
       "3880  https://www.youtube.com/watch?v=5Up8XW-K-Ik  2020  \n",
       "3881  https://www.youtube.com/watch?v=DG5SfLqZeA8  2020  \n",
       "3882  https://www.youtube.com/watch?v=0viILFQ5-ks  2020  \n",
       "\n",
       "[3883 rows x 3 columns]"
      ]
     },
     "execution_count": 98,
     "metadata": {},
     "output_type": "execute_result"
    }
   ],
   "source": [
    "#loading dataframe\n",
    "df = pd.read_pickle('songs.pkl')\n",
    "df"
   ]
  },
  {
   "cell_type": "markdown",
   "id": "40b6306e-a7ad-45c5-9fb4-6dce8fb4312f",
   "metadata": {},
   "source": [
    "### User Search recommendation"
   ]
  },
  {
   "cell_type": "code",
   "execution_count": null,
   "id": "18b45b59-b02f-48ff-9572-9454db5141d0",
   "metadata": {},
   "outputs": [],
   "source": [
    "def join_words(words):\n",
    "    try:\n",
    "        if not words:\n",
    "            return []\n",
    "        list = ast.literal_eval(words)\n",
    "        return \" \" + \" \".join(list)\n",
    "    except:\n",
    "        return \" \""
   ]
  },
  {
   "cell_type": "code",
   "execution_count": null,
   "id": "a4bbcb2b-baf0-4faa-8e50-26e11beace45",
   "metadata": {},
   "outputs": [],
   "source": [
    "user_search = 'aaj na jaana'\n",
    "\n",
    "song_title = pd.DataFrame()\n",
    "song_titles['title'] = dataframe['title']\n",
    "song_titles['tags'] = dataframe['title'] + dataframe['singers'].apply(join_words) + dataframe['directors'].apply(join_words) + dataframe['lyricist'].apply(join_words)\n",
    "song_titles['tags'] = song_titles['tags'] + \" \" + dataframe['album']\n",
    "song_titles['tags'] = song_titles['tags'] + \" \" + dataframe['year'].apply(lambda x : str(x))\n",
    "print(song_titles.shape)\n",
    "song_titles.tail()"
   ]
  },
  {
   "cell_type": "code",
   "execution_count": null,
   "id": "e1ad2052-0eb6-4f37-8e40-f8f3df98abbe",
   "metadata": {
    "scrolled": true
   },
   "outputs": [],
   "source": [
    "search_words = np.array(song_titles['tags'])\n",
    "print(len(search_words))\n",
    "np.save('search_similarity.npy', search_words)"
   ]
  },
  {
   "cell_type": "code",
   "execution_count": null,
   "id": "00038569-b814-49c8-974d-baefc69a39fc",
   "metadata": {},
   "outputs": [],
   "source": [
    "from sklearn.feature_extraction.text import TfidfVectorizer\n",
    "from sklearn.metrics.pairwise import cosine_similarity"
   ]
  },
  {
   "cell_type": "code",
   "execution_count": null,
   "id": "a19f081a-2dd1-4f85-8456-423a998978b7",
   "metadata": {},
   "outputs": [],
   "source": [
    "vectorizer = TfidfVectorizer()\n",
    "all_transform = vectorizer.fit_transform(song_titles['tags'])"
   ]
  },
  {
   "cell_type": "code",
   "execution_count": null,
   "id": "2e701ab9-d6c5-473b-bfbf-07751701a5da",
   "metadata": {},
   "outputs": [],
   "source": [
    "all_transform"
   ]
  },
  {
   "cell_type": "code",
   "execution_count": null,
   "id": "a193ee3a-d3d6-48a8-bd68-5e964782a00a",
   "metadata": {},
   "outputs": [],
   "source": [
    "query_transform = vectorizer.transform([user_search])"
   ]
  },
  {
   "cell_type": "code",
   "execution_count": null,
   "id": "5e1dcd16-824e-4ad3-af34-6012b9eda40b",
   "metadata": {},
   "outputs": [],
   "source": [
    "similar_songs = cosine_similarity(query_transform, all_transform)"
   ]
  },
  {
   "cell_type": "code",
   "execution_count": null,
   "id": "60f46632-c75c-4070-b36b-07220eeccc6e",
   "metadata": {},
   "outputs": [],
   "source": [
    "songs = np.argsort(-similar_songs[0]).tolist()[:50]"
   ]
  },
  {
   "cell_type": "markdown",
   "id": "5e1fd1dd-5489-4d29-aa92-a0703bbcda8a",
   "metadata": {},
   "source": [
    "### homepage songs"
   ]
  },
  {
   "cell_type": "code",
   "execution_count": null,
   "id": "a8c9d9b3-8759-47ee-9e94-48974644d0d6",
   "metadata": {},
   "outputs": [],
   "source": [
    "songs = dataframe.sort_values(by = \"year\").iloc[-50:]"
   ]
  },
  {
   "cell_type": "code",
   "execution_count": null,
   "id": "10deb057-37dc-4d61-bed0-d6374531e966",
   "metadata": {},
   "outputs": [],
   "source": [
    "songs"
   ]
  }
 ],
 "metadata": {
  "kernelspec": {
   "display_name": "Python 3 (ipykernel)",
   "language": "python",
   "name": "python3"
  },
  "language_info": {
   "codemirror_mode": {
    "name": "ipython",
    "version": 3
   },
   "file_extension": ".py",
   "mimetype": "text/x-python",
   "name": "python",
   "nbconvert_exporter": "python",
   "pygments_lexer": "ipython3",
   "version": "3.11.7"
  }
 },
 "nbformat": 4,
 "nbformat_minor": 5
}
